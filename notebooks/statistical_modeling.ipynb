{
 "cells": [
  {
   "cell_type": "markdown",
   "metadata": {},
   "source": [
    "## Statistical Modeling"
   ]
  },
  {
   "cell_type": "code",
   "execution_count": 1,
   "metadata": {},
   "outputs": [],
   "source": [
    "# Add the parent directory to the system path \n",
    "import os\n",
    "import sys\n",
    "sys.path.append(os.path.abspath(os.path.join('..')))"
   ]
  },
  {
   "cell_type": "code",
   "execution_count": 2,
   "metadata": {},
   "outputs": [],
   "source": [
    "# importing modules from scripts \n",
    "from scripts.test import *"
   ]
  },
  {
   "cell_type": "code",
   "execution_count": null,
   "metadata": {},
   "outputs": [],
   "source": [
    "# load insurance data\n",
    "df = pd.read_csv('../data/cleaned_insurance_data.csv', low_memory=False, index_col=False)"
   ]
  },
  {
   "cell_type": "code",
   "execution_count": 4,
   "metadata": {},
   "outputs": [],
   "source": [
    "# Specify the numeric and categorical features to use \n",
    "numeric_features = ['SumInsured', 'CalculatedPremiumPerTerm','RegistrationYear','PostalCode'] \n",
    "categorical_features = ['Province', 'CoverType', 'VehicleType', 'make', 'Gender', 'MaritalStatus','PostalCode','Model','CoverCategory','NewVehicle','RegistrationYear','Citizenship' ] "
   ]
  },
  {
   "cell_type": "code",
   "execution_count": null,
   "metadata": {},
   "outputs": [],
   "source": [
    "# Prepare features using the specified columns\n",
    "selected_features = prepare_features(df, numeric_features, categorical_features)"
   ]
  },
  {
   "cell_type": "code",
   "execution_count": 7,
   "metadata": {},
   "outputs": [],
   "source": [
    "# Preprocess the data\n",
    "X_train, X_test, y_premium_train, y_premium_test, y_claims_train, y_claims_test, preprocessor = preprocess_data(df, selected_features)"
   ]
  },
  {
   "cell_type": "code",
   "execution_count": 10,
   "metadata": {},
   "outputs": [],
   "source": [
    "# Build models\n",
    "models = build_models()"
   ]
  },
  {
   "cell_type": "code",
   "execution_count": 11,
   "metadata": {},
   "outputs": [],
   "source": [
    "# Train and evaluate models for TotalPremium\n",
    "premium_results = train_and_evaluate_models(X_train, X_test, y_premium_train, y_premium_test, preprocessor, models)"
   ]
  },
  {
   "cell_type": "code",
   "execution_count": 12,
   "metadata": {},
   "outputs": [],
   "source": [
    "# Train and evaluate models for TotalClaims\n",
    "claims_results = train_and_evaluate_models(X_train, X_test, y_claims_train, y_claims_test, preprocessor, models)"
   ]
  },
  {
   "cell_type": "code",
   "execution_count": null,
   "metadata": {},
   "outputs": [],
   "source": [
    "# Print results for TotalPremium \n",
    "\n",
    "print(\"Results for TotalPremium prediction:\")\n",
    "for name, result in premium_results.items():\n",
    "    print(f\"{name}: MSE = {result['MSE']:.4f}, R2 = {result['R2']:.4f}\")"
   ]
  },
  {
   "cell_type": "code",
   "execution_count": null,
   "metadata": {},
   "outputs": [],
   "source": [
    "# print result sof TotalClaims\n",
    "\n",
    "print(\"\\nResults for TotalClaims prediction:\")\n",
    "for name, result in claims_results.items():\n",
    "    print(f\"{name}: MSE = {result['MSE']:.4f}, R2 = {result['R2']:.4f}\")"
   ]
  },
  {
   "cell_type": "code",
   "execution_count": 14,
   "metadata": {},
   "outputs": [],
   "source": [
    "# Analyze feature importance for the best performing model (assuming Random Forest)\n",
    "best_premium_model = premium_results['Random Forest']['Model'].named_steps['regressor']\n",
    "best_claims_model = claims_results['Random Forest']['Model'].named_steps['regressor']"
   ]
  },
  {
   "cell_type": "code",
   "execution_count": 15,
   "metadata": {},
   "outputs": [],
   "source": [
    "premium_importance = analyze_feature_importance(best_premium_model, X_train)\n",
    "claims_importance = analyze_feature_importance(best_claims_model, X_train)"
   ]
  },
  {
   "cell_type": "code",
   "execution_count": null,
   "metadata": {},
   "outputs": [],
   "source": [
    "# Plot feature importance for TotalPremium\n",
    "plt.figure(figsize=(10, 6))\n",
    "plt.bar(premium_importance['feature'][:10], premium_importance['importance'][:10])\n",
    "plt.title('Top 10 Feature Importances for TotalPremium')\n",
    "plt.xlabel('Features')\n",
    "plt.ylabel('Importance')\n",
    "plt.xticks(rotation=45, ha='right')\n",
    "plt.tight_layout()\n",
    "plt.show()"
   ]
  },
  {
   "cell_type": "code",
   "execution_count": null,
   "metadata": {},
   "outputs": [],
   "source": [
    "# Plot feature importance for TotalClaims\n",
    "plt.figure(figsize=(10, 6))\n",
    "plt.bar(claims_importance['feature'][:10], claims_importance['importance'][:10])\n",
    "plt.title('Top 10 Feature Importances for TotalClaims')\n",
    "plt.xlabel('Features')\n",
    "plt.ylabel('Importance')\n",
    "plt.xticks(rotation=45, ha='right')\n",
    "plt.tight_layout()\n",
    "plt.show()"
   ]
  },
  {
   "cell_type": "code",
   "execution_count": 18,
   "metadata": {},
   "outputs": [],
   "source": [
    "# Model interpretation using SHAP for TotalPremium\n",
    "shap_values_premium, X_shap = interpret_model_with_shap(best_premium_model, X_test)"
   ]
  },
  {
   "cell_type": "code",
   "execution_count": null,
   "metadata": {},
   "outputs": [],
   "source": [
    "# Summary plot for TotalPremium\n",
    "shap.summary_plot(shap_values_premium, X_shap, plot_type=\"bar\")"
   ]
  },
  {
   "cell_type": "code",
   "execution_count": 20,
   "metadata": {},
   "outputs": [],
   "source": [
    "# Model interpretation using SHAP for TotalClaims\n",
    "shap_values_claims, X_shap = interpret_model_with_shap(best_claims_model, X_test)"
   ]
  },
  {
   "cell_type": "code",
   "execution_count": null,
   "metadata": {},
   "outputs": [],
   "source": [
    "# Summary plot for TotalClaims\n",
    "shap.summary_plot(shap_values_claims, X_shap, plot_type=\"bar\")"
   ]
  },
  {
   "cell_type": "code",
   "execution_count": null,
   "metadata": {},
   "outputs": [],
   "source": [
    "# Report comparison between each model performance\n",
    "print(\"\\nModel Performance Comparison:\")\n",
    "print(\"\\nTotalPremium:\")\n",
    "for name, result in premium_results.items():\n",
    "    print(f\"{name}: R2 = {result['R2']:.4f}\")\n",
    "\n",
    "print(\"\\nTotalClaims:\")\n",
    "for name, result in claims_results.items():\n",
    "    print(f\"{name}: R2 = {result['R2']:.4f}\")"
   ]
  },
  {
   "cell_type": "code",
   "execution_count": null,
   "metadata": {},
   "outputs": [],
   "source": [
    "# Conclusion\n",
    "print(\"\\nConclusion:\")\n",
    "print(\"Based on the R2 scores, the best performing model for both TotalPremium and TotalClaims prediction is...\")\n",
    "# Determine the best model based on R2 score\n",
    "best_premium_model = max(premium_results, key=lambda x: premium_results[x]['R2'])\n",
    "best_claims_model = max(claims_results, key=lambda x: claims_results[x]['R2'])\n",
    "print(f\"For TotalPremium: {best_premium_model}\")\n",
    "print(f\"For TotalClaims: {best_claims_model}\")\n",
    "\n",
    "print(\"\\nThe most important features for predicting TotalPremium are:\")\n",
    "print(premium_importance['feature'][:5].tolist())\n",
    "\n",
    "print(\"\\nThe most important features for predicting TotalClaims are:\")\n",
    "print(claims_importance['feature'][:5].tolist())\n",
    "\n",
    "print(\"\\nThese results can help AlphaCare Insurance Solutions optimize their marketing strategy and identify low-risk targets for premium reduction.\")"
   ]
  }
 ],
 "metadata": {
  "kernelspec": {
   "display_name": "acis_env",
   "language": "python",
   "name": "python3"
  },
  "language_info": {
   "codemirror_mode": {
    "name": "ipython",
    "version": 3
   },
   "file_extension": ".py",
   "mimetype": "text/x-python",
   "name": "python",
   "nbconvert_exporter": "python",
   "pygments_lexer": "ipython3",
   "version": "3.12.1"
  }
 },
 "nbformat": 4,
 "nbformat_minor": 2
}
